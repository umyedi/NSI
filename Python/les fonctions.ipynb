{
 "cells": [
  {
   "cell_type": "markdown",
   "metadata": {},
   "source": [
    "# Les fonctions\n",
    "\n",
    "## A quoi ca sert ?\n",
    "\n",
    "Les fonctions permettent  d'alléger notre code, de le rendre plus lisible et le réutiliser autant de fois que l'on veut.\n",
    "\n",
    "## Les deux types de fonctions\n",
    "\n",
    "### Les fonctions sans valeur retour\n",
    "\n",
    "On connait déjà quelques fonction sans valeur retour, par exemple la fonction `print`. Les fonction sans valeur retour exécutent une tache sans rien retourner (ex : une fonction qui dessine un carré avec `Turtle`).\n",
    "\n",
    "### Les fonctions avec valeur retour\n",
    "\n",
    "On connait également quelques fonction avec valeur retour, par exemple la fonction `type` qui nous revoit le type d'une variable. Les fonction sans valeur retour exécutent une tache et retourne une valeur (ex : une fonction qui additionne deux nombres).\n",
    "\n",
    "## Comment créer une fonction ?\n",
    "\n",
    "Pour définir *(créer)* une fonction, on utilise le mot clé `def` (define en anglais) suivi du nom de la fonction, de deux parenthèses et de deux points. Le code contenu dans la fonction doit être indenté (c'est à dire qu'il doit être décalé de deux espaces (ou d'un tab) vers la droite).\n",
    "\n",
    "Dans l'exemple suivant, notre fonction est définie par le mot `def` et elle s'appelle `dit_bonjour`. Lorsqu'elle est exécutée, la fonction affichera la chaine de caractères `\"Hello World!\"`."
   ]
  },
  {
   "cell_type": "code",
   "execution_count": null,
   "metadata": {},
   "outputs": [],
   "source": [
    "def dit_bonjour(): # On définit la fonction 'dit_bonjour'\n",
    "    print(\"Bonjour !\")"
   ]
  },
  {
   "cell_type": "markdown",
   "metadata": {},
   "source": [
    "Lorsqu'on définie une fonction, elle n'est pas exécutée pour autant. En effet, si on essaye d'exécuter la cellule de code ci-dessus, on remarque que rien n'est affiché.\n",
    "\n",
    "Pour exécuter le code contenu dans une fonction, il faut l'appeller. Pour ce faire, on écrit le nom de la fonction suivie de deux parenthèses."
   ]
  },
  {
   "cell_type": "code",
   "execution_count": null,
   "metadata": {},
   "outputs": [],
   "source": [
    "dit_bonjour() # On appelle la fonction 'dit_bonjour'"
   ]
  },
  {
   "cell_type": "markdown",
   "metadata": {},
   "source": [
    "On peut demander à une fonction de retourner une valeur grâce au mot clé `return` suivi de la valeur qu'on veut retourner. Attention, lorsqu'on retourne une valeur, celle-ci ne sera pas affichée tant qu'on ne lui demandera pas.\n",
    "\n"
   ]
  },
  {
   "cell_type": "code",
   "execution_count": null,
   "metadata": {},
   "outputs": [],
   "source": [
    "def dit_salut():\n",
    "    return \"Salut !!\" # la valeur retournée est 'Salut !!'"
   ]
  },
  {
   "cell_type": "markdown",
   "metadata": {},
   "source": [
    "Si dans `dit_salut` je veux afficher la valeur retournée je vais devoir ajouter un print lors de l'appel de ma fonction."
   ]
  },
  {
   "cell_type": "code",
   "execution_count": null,
   "metadata": {},
   "outputs": [],
   "source": [
    "print(dit_salut())"
   ]
  },
  {
   "cell_type": "markdown",
   "metadata": {},
   "source": [
    "Je peux donc également stocker ce que retourne ma fonction dans une variable."
   ]
  },
  {
   "cell_type": "code",
   "execution_count": null,
   "metadata": {},
   "outputs": [],
   "source": [
    "salut = dit_salut()\n",
    "print(salut)"
   ]
  },
  {
   "cell_type": "markdown",
   "metadata": {},
   "source": [
    "Lorsque l'instruction `return` est exécutée, la fonction s'arrête automatiquement. Par conséquent, du code qui est mis après un `return` ne sera jamais exécuté : c'est un code inatteignable."
   ]
  },
  {
   "cell_type": "code",
   "execution_count": null,
   "metadata": {},
   "outputs": [],
   "source": [
    "def dialogue():\n",
    "    print(\"Cette ligne est exécutée\")\n",
    "    return 0\n",
    "    print(\"Cette ligne ne l'est pas\")\n",
    "\n",
    "dialogue()"
   ]
  },
  {
   "cell_type": "markdown",
   "metadata": {},
   "source": [
    "### Exercice\n",
    "\n",
    "On a vu que l'instruction `return` arrêtait la fonction automatiquement. Simplifiez le code suivant ne modifiant que deux lignes :"
   ]
  },
  {
   "cell_type": "code",
   "execution_count": null,
   "metadata": {},
   "outputs": [],
   "source": [
    "from random import randint\n",
    "\n",
    "def roulette_russe():\n",
    "    if randint(0, 6) == 0:\n",
    "        return True\n",
    "    return False\n",
    "\n",
    "print(roulette_russe())"
   ]
  },
  {
   "cell_type": "markdown",
   "metadata": {},
   "source": [
    "On aurait aussi directement pu simplifier la fonction en lui faisant retourner le résultat de la comparaison :\n",
    "```Python\n",
    "def roulette_russe():\n",
    "    return randint(0, 6) == 0\n",
    "```\n",
    "\n",
    "On a parlé des fonction qui ne retourne rien mais en réalité chaque fonction retourne forcément quelquechose. Lorsqu'on ne spécifie pas de valeur à retourner, par défault, la fonction retourne `None` (\"rien\" en anglais)."
   ]
  },
  {
   "cell_type": "code",
   "execution_count": null,
   "metadata": {},
   "outputs": [],
   "source": [
    "def rien():\n",
    "    pass # Ne fait rien\n",
    "\n",
    "print(rien())"
   ]
  },
  {
   "cell_type": "markdown",
   "metadata": {},
   "source": [
    "## Les paramètres et les arguments\n",
    "\n",
    "Jusqu'à présent, lorsqu'on définissait une fonction, les parenthèses restaient vides car on ne pouvait pas donner d'informations à la fonction. C'est là qu'interviennent les paramètres. A l'intérieur des parenthèses, lorsqu'on définit la fonction, on peut indiquer un ou plusieurs paramètres. \n",
    "\n",
    "Dans l'exemple suivant, on a une fonction `afficher` à qui on donne un argument `message`. Lorsqu'on appelle cette fonction, on peut passer une valeur à au paramètre `message`."
   ]
  },
  {
   "cell_type": "code",
   "execution_count": 25,
   "metadata": {},
   "outputs": [
    {
     "name": "stdout",
     "output_type": "stream",
     "text": [
      "Bonjour !\n",
      "Salut !!\n"
     ]
    }
   ],
   "source": [
    "def afficher(message):\n",
    "    print(message)\n",
    "\n",
    "afficher(\"Bonjour !\")\n",
    "afficher(\"Salut !!\")"
   ]
  },
  {
   "cell_type": "markdown",
   "metadata": {},
   "source": [
    "Vocabulaire :\n",
    "- Le message qu'on met dans les parenthèses lorsqu'on définit la fonction est appelé **paramètre**.\n",
    "- Quand on appelle la fonction et qu'on passe une valeur dans ces parenthèses, on appelle ca un **argument**."
   ]
  }
 ],
 "metadata": {
  "kernelspec": {
   "display_name": "Python 3",
   "language": "python",
   "name": "python3"
  },
  "language_info": {
   "codemirror_mode": {
    "name": "ipython",
    "version": 3
   },
   "file_extension": ".py",
   "mimetype": "text/x-python",
   "name": "python",
   "nbconvert_exporter": "python",
   "pygments_lexer": "ipython3",
   "version": "3.11.6"
  },
  "orig_nbformat": 4
 },
 "nbformat": 4,
 "nbformat_minor": 2
}
