{
 "cells": [
  {
   "cell_type": "markdown",
   "metadata": {},
   "source": [
    "<div style=\"text-align:center\">\n",
    "<h1><u>La programmation orientée objet</u></h1>\n",
    "</div>\n",
    "\n",
    "---\n",
    ">**Sommaire :**\n",
    ">- <a href=\"#chapitre-1\">Chapitre 1 : Les classes</a>\n",
    ">   - [C'est quoi ?](#une-classe--cest-quoi)\n",
    ">   - [Comment créer une classe ?](#comment-créer-une-classe)\n",
    ">   - [Comment créer des instances ?](#comment-créer-des-instances)\n",
    ">   - [Attributs de classe VS attributs d'instance](#attributs-de-classe-vs-attributs-dinstance)\n",
    ">   - [Comment initialiser une instance ?](#comment-initialiser-une-instance)\n",
    ">   - [C'est quoi concrètement « <code style=\"color:white\">self</code> » ?](#cest-quoi-concrètement-«-self-»)\n",
    ">- <a href=\"#chapitre-2\">Chapitre 2 : Les classes de données</a>\n",
    ">   - [C'est quoi ?](#une-classe-de-données--cest-quoi)\n",
    ">   - [Différencier attributs d'instance et les attributs de classe](#différencier-attributs-dinstance-et-attributs-de-classe)\n",
    ">   - [La méthode <code style=\"color:white\">\\_\\_post_init\\_\\_</code>](#la-méthode-__post_init__)\n",
    ">- <a href=\"#chapitre-3\">Chapitre 3 : Les différentes méthodes</a>\n",
    ">   - [Les méthodes de classe](#les-méthodes-de-classe)\n",
    ">   - [Les méthodes statiques](#les-méthodes-statiques)\n",
    ">   - [La méthode <code style=\"color:white\">\\_\\_str\\_\\_</code>](#la-méthode-__str__)\n",
    ">- <a href=\"#chapitre-4\">Chapitre 4 : Notion d'héritage</a>\n",
    ">   - [C'est quoi ?](#lhéritage--cest-quoi)\n",
    ">   - [La fonction <code style=\"color:white\">super()</code>](#la-fonction-super)\n",
    ">   - [La surcharge](#la-surcharge)\n",
    ">   - [Le polymorphisme](#le-polymorphisme)\n",
    "---\n",
    "\n",
    "<h2 id=\"chapitre-1\" style=\"text-align:center\">Chapitre 1<br><strong>Les classes</strong><h2>\n",
    "\n",
    "### Une classe : c'est quoi ?\n",
    "\n",
    "En Python, pour manipuler des objets, on utilise **les classes**. Comme avec les fonctions, on les définit une seule fois, avec différents paramètres. On peut ensuite les appeler autant de fois qu'on veut avec des paramètres différents.\n",
    "\n",
    "Exemple : On imagine que vous êtes propriétaire d'une usine Haribeau. Les bonbons peuvent avoir des caractéristiques communes mais peuvent prendre des valeurs différentes (toutes les bonbons ont un goût mais pas forcément le même).\n",
    "- Lors de la création d'une classe, on va donc créer des **attributs** (variables). Dans notre exemple, un attribut de la classe bonbon pourrait être le gout, la couleur, la forme...\n",
    "- A partir de cette classe, on va pouvoir créer différents objets qu'on appelle des **instances**. Chaque instance aura les même attributs (gout, couleur, forme) mais avec des valeurs différentes (fraise, rouge, rond).\n",
    "- On peut aussi ajouter des fonctions à l'intérieur de notre classe qui vont nous permettre d'effectuer des opérations sur nos instances. On appelle ça une **méthode** (on connait déjà quelques méthode : `.append()`, `.keys()`...). Dans le cas de notre voiture, on pourrait définir plusieurs méthodes comme `manger`, `vendre`, `jeter`..."
   ]
  },
  {
   "cell_type": "markdown",
   "metadata": {},
   "source": [
    "### Comment créer une classe ?\n",
    "\n",
    "1. Pour créer une classe, on utilise le mot `class` suivi du nom de la classe et de deux points (`:`).\n",
    "2. On ajoute ensuite les attributs de la classe.\n",
    "\n",
    "Pour afficher un attribut, on utilise la fonction `print()` avec, entre les parenthèses, le nom de la classe suivi du nom de l'attribut séparés par un point (ex : l'instruction `Bonbon.gout` affiche l'attribut `gout` de la class `Bonbon`)."
   ]
  },
  {
   "cell_type": "code",
   "execution_count": null,
   "metadata": {},
   "outputs": [],
   "source": [
    "class Bonbon: # On créer notre classe 'Bonbon'\n",
    "    gout = \"fraise\" # On créer un attribut 'gout'\n",
    "    couleur = \"rouge\" # On créer un attribut 'couleur'\n",
    "\n",
    "print(Bonbon.gout) # On affiche la valeur de l'attribut 'gout'\n",
    "print(Bonbon.couleur) # On affiche la valeur de l'attribut 'couleur'"
   ]
  },
  {
   "cell_type": "markdown",
   "metadata": {},
   "source": [
    "### Comment créer des instances ?\n",
    "\n",
    "Une fois la classe initialisée, on peut créer des instances de cette classe. Les instances sont des objet appartenant à une classe, et qui possède donc les mêmes attributs et les mêmes méthodes.\n",
    "\n",
    "Pour créer une instance, on créer une variable et on lui donne pour valeur le nom d'une classe (ex : `dragibus = Bonbon()`)."
   ]
  },
  {
   "cell_type": "code",
   "execution_count": null,
   "metadata": {},
   "outputs": [],
   "source": [
    "class Bonbon:\n",
    "    gout = \"fraise\"\n",
    "\n",
    "dragibus = Bonbon() # On créer une instance qu'on appelle 'dragibus'\n",
    "tagada = Bonbon() # On créer une autre instance appellée 'tagada'\n",
    "\n",
    "print(dragibus.gout) # Le gout de 'dragibus' est 'fraise'\n",
    "print(tagada.gout) # Le gout de 'tagada' est 'fraise'"
   ]
  },
  {
   "cell_type": "markdown",
   "metadata": {},
   "source": [
    "### Attributs de classe VS attributs d'instance\n",
    "\n",
    "**Attributs de classe :** <br>\n",
    "Admettons qu'on veuille modifier le gout de tous les bonbons. Dans ce cas, on va modifier l'attribut de classe directement en modifiant le gout à l'intérieur de la classe `Bonbon`. Pour modifier un attribut, on appelle l'attribut (comme pour l'afficher) et on lui assigne une nouvelle valeur avec le signe égal (ex : `Bonbon.gout = \"coca\"`)."
   ]
  },
  {
   "cell_type": "code",
   "execution_count": null,
   "metadata": {},
   "outputs": [],
   "source": [
    "\n",
    "Bonbon.gout = \"coca\" # L'attribut 'gout' de la classe 'Bonbon' a maintenant pour valeur 'coca' \n",
    "\n",
    "print(dragibus.gout) # Le gout de 'dragibus' est 'coca'\n",
    "print(tagada.gout) # # Le gout de 'tagada' est 'coca'"
   ]
  },
  {
   "cell_type": "markdown",
   "metadata": {},
   "source": [
    "**Attributs d'instance :** <br>\n",
    "Admettons qu'on souhaite modifier le gout d'un seul bonbon. Pour ce faire, on va directement modifier l'attribut (ex: `gout`) de l'intance (ex : `tagada`) choisie."
   ]
  },
  {
   "cell_type": "code",
   "execution_count": null,
   "metadata": {},
   "outputs": [],
   "source": [
    "dragibus.gout = \"framboise\" # L'attribut 'gout' de l'instance 'dragibus' a maintenant pour valeur 'framboise' \n",
    "tagada.gout = \"fraise\" # L'attribut 'gout' de l'instance 'tagada' a maintenant pour valeur 'fraise' \n",
    "\n",
    "print(Bonbon.gout) # Attribut de classe : 'coca'\n",
    "print(dragibus.gout) # Attribut de l'instance 'dragibus' : 'framboise'\n",
    "print(tagada.gout) # Attribut de l'instance 'tagada' : 'fraise'"
   ]
  },
  {
   "cell_type": "markdown",
   "metadata": {},
   "source": [
    "### Comment initialiser une instance ?\n",
    "\n",
    "On a vu précédemment que lorsqu'on initialisait une instance, elle prenait ses attributs de la classe. Nous allons découvrir la méthode `__init__` qui va nous permettre de modifier les attributs d'une instance directement lors de sa création.\n",
    "\n",
    "Pour définir cette méthode, on défini une fonction qu'on appelle `__init__` (avec 2 tirets du bas de chaque coté du mot `init`). C'est un mot réservé en Python, qui permet d'appeler cette méthode automatiquement lorsqu'on créer une instance à partir d'une classe.\n",
    "\n",
    "```Python\n",
    "class Bonbon:\n",
    "    def __init__():\n",
    "        gout = \"fraise\" # Code exécuté lors de la création d'une instance\n",
    "```\n",
    "\n",
    "Pour pouvoir passer des paramètres lors de la création d'une instance, on peut ajouter des paramètres à la fonction `__init__`. Pour pouvoir ajouter des arguments dans notre classe, on doit ajouter un argument obligatoire qu'on appelle `self` (on peut l'appeller autrement mais on l'appelle `self` par convention). Cet argument se réfère à l'intance que l'on crée. Pour créer des variables dans notres classe (des attributs), il faudra maintenant écrire (dans la méthode `__init__`) le mot `self` suivit d'un point et du nom de l'attribut (ex : `self.gout = gout`).\n",
    "\n",
    "```Python\n",
    "class Voiture:\n",
    "    def __init__(self, gout): # On ajoute le paramètre 'gout'\n",
    "        self.gout = gout # On définit l'attribut 'gout' qui a la même valeur que le paramètre 'gout'\n",
    "```\n",
    "\n",
    "Lorsqu'on créer une instance de la classe `Bonbon`, on peut maintenant l'écire de cette manière : `tagada = Bonbon(\"fraise\")`."
   ]
  },
  {
   "cell_type": "code",
   "execution_count": null,
   "metadata": {},
   "outputs": [],
   "source": [
    "class Bonbon:\n",
    "    def __init__(self, gout): # On ajoute un paramètre 'marque'\n",
    "        self.gout = gout # On créer l'attribut 'marque' qui a la même valeur que le paramètre 'marque'\n",
    "    \n",
    "dragibus = Bonbon(\"coca\")\n",
    "tagada = Bonbon(\"fraise\")\n",
    "\n",
    "print(dragibus.gout)\n",
    "print(tagada.gout)"
   ]
  },
  {
   "cell_type": "markdown",
   "metadata": {},
   "source": [
    "Maintenant qu'on connais mieux le fonctionnent des classes, on va pouvoir faire des choses un peu plus poussées. Par exemple, on peut ajouter un compteur de bonbons crées. On va donc créer un attribut de classe nommé `bonbon_fabriques` qu'on initalise à `0`. Ensuite, dans le `__init__`, on incrémente la variable `bonbon_fabriques` de `1`. Comme la fonction `__init__` s'exécute dès qu'on créer une instance de la classe, chaque création d'instance (donc de bonbon) ajoutera `1` au compteur."
   ]
  },
  {
   "cell_type": "code",
   "execution_count": null,
   "metadata": {},
   "outputs": [],
   "source": [
    "class Bonbon:\n",
    "    bonbon_fabriques = 0\n",
    "    def __init__(self, gout):\n",
    "        Bonbon.bonbon_fabriques += 1\n",
    "        self.gout = gout\n",
    "    \n",
    "dragibus = Bonbon(\"coca\")\n",
    "tagada = Bonbon(\"fraise\")\n",
    "print(Bonbon.bonbon_fabriques)"
   ]
  },
  {
   "cell_type": "markdown",
   "metadata": {},
   "source": [
    "### Agir sur les instances gâces aux méthodes\n",
    "\n",
    "On a vu que `self` était un argument qui se référait à l'instance d'une classe. On va maintenant voir qu'ajouter `self` dans les méthodes *(fonctions contenues dans une classe)* va nous permettre d'agir sur les instances. \n",
    "\n",
    "Imaginons qu'on créer une méthode `affiche_gout()` *(qui affiche le gout du bonbon)* et que lors de sa définition, on lui passe le paramètre `self`. Grâce à ça, lorsqu'on exécute `dragibus.afficher_gout()` (ce qui correspond à exécuter `Bonbon.affiche_gout(dragibus)`), grâce au `self` passé comme paramètre, on va pouvoir accèder aux attributs de l'instance `dragibus`."
   ]
  },
  {
   "cell_type": "code",
   "execution_count": null,
   "metadata": {},
   "outputs": [],
   "source": [
    "class Bonbon:\n",
    "    def __init__(self, gout):\n",
    "        self.gout = gout\n",
    "\n",
    "    def afficher_gout(self):\n",
    "        print(self.gout)\n",
    "\n",
    "dragibus = Bonbon(\"Lamborghini\")\n",
    "dragibus.afficher_gout() # Execute la méthode 'afficher_gout' pour l'instance 'dragibus'"
   ]
  },
  {
   "cell_type": "markdown",
   "metadata": {},
   "source": [
    "<style type=\"text/css\">\n",
    "\n",
    "summary {\n",
    "  border: 4px solid transparent;\n",
    "  outline: none;\n",
    "  padding: 0.2rem;\n",
    "  display: block;\n",
    "  background: #00c04b;\n",
    "  opacity: 0.5;\n",
    "  color: white;\n",
    "  padding-left: 2.2rem;\n",
    "  position: relative;\n",
    "  cursor: pointer;\n",
    "}\n",
    "\n",
    "details {\n",
    "  max-width: 1000px;\n",
    "  box-sizing: border-box;\n",
    "  margin-top: 5px;\n",
    "  background: white;\n",
    "}\n",
    "\n",
    "details[open] > summary:before {\n",
    "  transform: rotate(90deg);\n",
    "}\n",
    "\n",
    "summary:before {\n",
    "  content: '';\n",
    "  border-width: .4rem;\n",
    "  border-style: solid;\n",
    "  border-color: transparent transparent transparent #fff;\n",
    "  position: absolute;\n",
    "  top: 0.7rem;\n",
    "  left: 1rem;\n",
    "  transform: rotate(0);\n",
    "  transform-origin: .2rem 50%;\n",
    "  transition: .25s transform ease;\n",
    "}\n",
    "\n",
    ".content > p {\n",
    "  color: black;\n",
    "  text-align: justify;\n",
    "  margin: 6px;\n",
    "  padding-bottom: 10px;\n",
    "  &:last-child {\n",
    "    padding: 0;\n",
    "  }\n",
    "}\n",
    "\n",
    "</style>\n",
    "\n",
    "# Exercice 1\n",
    "\n",
    "D'après la classe `Personne` définie ci-dessous, complétez le code puis répondez aux questions suivantes :\n",
    "\n",
    "1 - Qu'est-ce qu'une classe et en quoi est-elle utile ?\n",
    "<details>\n",
    "  <summary> Voir la réponse </summary>\n",
    "  <div class=\"content\"><p>Une classe est une <strong>structure</strong> qui permet de définir un modèle pour la création d'objets. Elle regroupe des <strong>attributs</strong> (variables) et des <strong>méthodes</strong> (fonctions) qui définissent le comportement des <strong>attributs</strong> (objets créés à partir de cette classe). Les classes sont utiles car elles permettent d'<strong>organiser</strong> et d'<strong>encapsuler</strong> des données et des fonctionnalités pour pouvoir les <strong>réutiliser</strong>.</p></div>\n",
    "</details>\n",
    "\n",
    "2 - Quel est le rôle de `__init__` ?\n",
    "<details>\n",
    "  <summary> Voir la réponse </summary>\n",
    "  <div class=\"content\"><p>La méthode <code>__init__</code> est une méthode spéciale qui est <strong>automatiquement appelée</strong> lors de la création d'une nouvelle instance (objet) de la classe. Le nom <code>__init__</code> est <strong>réservé</strong> à cette méthode particulière, et il <strong>ne doit pas être changé</strong>.</p></div>\n",
    "</details>\n",
    "\n",
    "\n",
    "3 - Quels sont les attribut et les méthodes de la classe `Personne` ?\n",
    "\n",
    "<details>\n",
    "  <summary> Voir la réponse </summary>\n",
    "  <div class=\"content\"><p>Les attributs d'une classe sont les <strong>variables</strong> définie à l'intérieur d'une classe. Les attributs de la classe <code>Personne</code> sont <code>prenom</code> et <code>age</code>.</p>\n",
    "  <p>Les méthodes d'une classe sont les <strong>fonctions</strong> définir à l'intérieur d'une classe. Les méthodes de la classe <code>Personne</code> sont <code>__init__</code>, <code>dire_bonjour</code>, <code>passer_annee</code> et <code>changer_nom</code></p>\n",
    "  </div>\n",
    "</details>\n",
    "\n",
    "4 - Quel est la différence entre un attribut d'instance et un attribut de classe ?\n",
    "\n",
    "<details>\n",
    "  <summary> Voir la réponse </summary>\n",
    "  <div class=\"content\"><p>Un <strong>attribut d'instance</strong> est une variable qui est <strong>propre à chaque instance</strong> (objet) d'une classe. Cela signifie que chaque objet créé à partir de la même classe peut avoir <strong>ses propres valeurs</strong> pour cet attribut. Par exemple, pour la classe <code>Personne</code>, chaque instance de cette classe peuvent avoir un une valeur différent de l'attribut <code>prenom</code>. Les attributs d'instance sont définis <strong>dans la méthode <code>__init__</code></strong> de la classe, et ils sont accessibles <strong>via l'objet lui-même</strong> (exemple : <code>personne_1.prenom</code>).</p>\n",
    "  <p>Un <strong>attribut de classe</strong> est une variable <strong>partagée par toutes les instances</strong> d'une classe. Il est défini <strong>au niveau de la classe elle-même</strong>, en dehors des méthodes. Toutes les instances de la classe ont accès à <strong>la même valeur</strong> de l'attribut de classe. Cela signifie que si vous modifiez la valeur de cet attribut dans une instance, elle affectera toutes les autres instances de la même classe.</p>\n",
    "  </div>\n",
    "</details>\n",
    "\n",
    "5 - Que signifie l'argument `self` ?\n",
    "\n",
    "<details>\n",
    "  <summary> Voir la réponse </summary>\n",
    "  <div class=\"content\"><p>En Python, <code>self</code> est un <strong>paramètre spécial</strong> utilisé dans les méthodes d'une classe pour <strong>faire référence à l'instance</strong> (l'objet) lui-même. Il est le <strong>premier paramètre</strong> de toutes les méthodes définies dans une classe.</p>\n",
    "  <p>Lorsque vous appelez une méthode sur une instance, Python injecte automatiquement l'instance elle-même en tant que premier argument, ce qui vous permet d'utiliser self à l'intérieur de la méthode pour accéder aux données spécifiques à cette instance.</p>\n",
    "  </div>\n",
    "</details>\n",
    "\n",
    "6 - Que fait la méthode `passer_annee` ?\n",
    "\n",
    "<details>\n",
    "  <summary> Voir la réponse </summary>\n",
    "  <div class=\"content\"><p>La fonction <code>passer_annee</code> de la classe <code>Personne</code> simule le passage d'une année en augmentant incrémentant l'attribut d'instance <code>age</code> de <code>1</code>. Ensuite, elle retourn la chaine de caractère <code>f\"{self.prenom} vient d'avoir {self.age} ans.\"</code> où <code>{self.prenom}</code> et <code>{self.age}</code> sont remplacés par leur valeurs.</p>\n",
    "  </div>\n",
    "</details>\n"
   ]
  },
  {
   "cell_type": "code",
   "execution_count": null,
   "metadata": {},
   "outputs": [],
   "source": [
    "class Personne:\n",
    "\n",
    "    # Ajoutez un attribut de classe 'humain' qui vaut True\n",
    "    ...\n",
    "\n",
    "    def __init__(self, prenom, age):\n",
    "        self.prenom = prenom\n",
    "        self.age = age\n",
    "\n",
    "    def dire_bonjour(self):\n",
    "        return f\"Bonjour, mon prénom est {self.prenom} et j'ai {self.age} ans.\"\n",
    "\n",
    "    def passer_annee(self):\n",
    "        self.age += 1\n",
    "        return f\"{self.prenom} vient d'avoir {self.age} ans.\"\n",
    "    \n",
    "    def changer_nom(self, nv_prenom):\n",
    "        # Complétez la fonction pour qu'elle change le nom d'une personne\n",
    "        ...\n",
    "\n",
    "# Créez une instance 'personne_1' de la classe 'Personne'.\n",
    "...\n",
    "\n",
    "# Faites dire bonjour à 'personne_1'\n",
    "...\n",
    "\n",
    "# Faites passer une année à 'personne_1\n",
    "..."
   ]
  },
  {
   "cell_type": "markdown",
   "metadata": {},
   "source": [
    "<h2 id=\"chapitre-2\" style=\"text-align:center\">Chapitre 2<br><strong>Les classes de données</strong></h2>\n",
    "\n",
    "### Qu'est-ce qu'une classe de données ?\n",
    "\n",
    "Pour éviter trop de répétition dans l'initialisation d'instances, on peut utiliser ce qu'on appelle les classes de données (uniquement à partir de [Python 3.7](https://www.python.org/downloads/)). Pour ce faire, on va importer le module `dataclass` qui va nous permettre de générer automatiquement les méthodes telles que `__init__` ou encore `__repr__`."
   ]
  },
  {
   "cell_type": "markdown",
   "metadata": {},
   "source": [
    "### Initialisation d'une classe de données\n",
    "\n",
    "On a vu précédemment que pour définir une classe, on la définissait de la manière suivante :\n",
    "```Python\n",
    "class Utilisateur:\n",
    "    def __init__(self, prenom:str, nom:str):\n",
    "        self.prenom = prenom\n",
    "        self.nom = nom\n",
    "```\n",
    "\n",
    "**Remarque :** L'instruction `:str` en tant que paramètre d'une fonction (ou d'une méthode) permet d'indiquer le type d'un paramètre. Dans l'exemple ci-dessus, on indique que les paramètres `prenom` et `nom` sont de type `str`.\n",
    "\n",
    "Pour défini une classe de données, on importe d'abord le module `dataclasses` puis on ajoute le décorateur `dataclass` avant la création de notre classe `Utilisateur` pour créer les attributs de notre classe. Notre classe `Utilisateur` devient donc :"
   ]
  },
  {
   "cell_type": "code",
   "execution_count": 10,
   "metadata": {},
   "outputs": [],
   "source": [
    "from dataclasses import dataclass # On importe la fonction 'dataclass' du module 'dataclasses'\n",
    "\n",
    "@dataclass # On utilise la fonction 'dataclass' en tant que décorateur pour la classe 'Utilisateur'\n",
    "class Utilisateur:\n",
    "    # On créee les attributs d'instance 'prenom' et 'nom' (de type str)\n",
    "    prenom: str\n",
    "    nom: str = \"\" # On donne comme valeur par défault une chaine de caractères vide à l'attribut 'nom'"
   ]
  },
  {
   "cell_type": "markdown",
   "metadata": {},
   "source": [
    "On peut remarquer que définir la fonction `__init__` avec le module `dataclasses` est bien plus lisible et bien plus court qu'avec la méthode classique.\n",
    "\n",
    "### Représenter une classe de données\n",
    "\n",
    "Lorsqu'on a défini une classe de données avec le décorateur `@dataclass`, la création de la méthode `__repr__` se fait automatiquement de la manière suivant :"
   ]
  },
  {
   "cell_type": "code",
   "execution_count": 13,
   "metadata": {},
   "outputs": [
    {
     "name": "stdout",
     "output_type": "stream",
     "text": [
      "Utilisateur(prenom='Jean', nom='')\n"
     ]
    }
   ],
   "source": [
    "utilisateur_01 = Utilisateur(\"Jean\")\n",
    "print(repr(utilisateur_01)) # Affiche un résultat lisible au lieux de '<__main__.Utilisateur object at 0x000002262DD1CE50>'"
   ]
  },
  {
   "cell_type": "markdown",
   "metadata": {},
   "source": [
    "### Différencier attributs d'instance et attributs de classe\n",
    "\n",
    "Pour les attributs d'instance, on a vu qu'on pouvais les écire avec le nom de l'attribut suivi de `:` et du type (`str`, `int`, `list`...) et qu'on pouvait lui assigner une valeur par défaut en ajoutant `=` suivi de la valeur. \n",
    "\n",
    "Lorsqu'on veut créer un attribut de classe de données, il faudra importer la fonction `ClassVar` du module `typing`. Pour créer un attribut de classe, on écrit le nom de l'attribut suivi de `: ClassVar[]` avec entre les crochets, le type de l'attribut (`int`, `str`, `list`...). De même, lui attribuer une valeur, on ajoute un `=` suivi de la valeur. Par exemple :"
   ]
  },
  {
   "cell_type": "code",
   "execution_count": 16,
   "metadata": {},
   "outputs": [],
   "source": [
    "from typing import ClassVar # On import la fonction `ClassVar` depuis le module 'typing'\n",
    "\n",
    "@dataclass\n",
    "class Utilisateur:\n",
    "    compteur: ClassVar[int] = 0 # On créee un attribut d'instance 'compteur' qui à pour valeur initiale 0.\n",
    "    prenom: str\n",
    "    nom: str = \"\""
   ]
  },
  {
   "cell_type": "markdown",
   "metadata": {},
   "source": [
    "### Méthodes spéciale des classes de données\n",
    "\n",
    "Avec les classes de données, on peut définir une méhode `__post_init__`. Cette méthode sera appellée automatiquement juste après la méthode `__init__`. Par exemple :"
   ]
  },
  {
   "cell_type": "code",
   "execution_count": 18,
   "metadata": {},
   "outputs": [
    {
     "name": "stdout",
     "output_type": "stream",
     "text": [
      "Jean Bernier\n"
     ]
    }
   ],
   "source": [
    "@dataclass\n",
    "class Utilisateur:\n",
    "    prenom: str\n",
    "    nom: str = \"\"\n",
    "\n",
    "    def __post_init__(self):\n",
    "        self.nom_complet = f\"{self.prenom} {self.nom}\"\n",
    "\n",
    "utilisateur_01 = Utilisateur(\"Jean\", \"Bernier\")\n",
    "print(utilisateur_01.nom_complet)"
   ]
  },
  {
   "cell_type": "markdown",
   "metadata": {},
   "source": [
    "<h2 id=\"chapitre-3\" style=\"text-align:center\">Chapitre 3<br><strong>Les différentes méthodes</strong></h2>\n",
    "\n",
    "# ***--- Modifié jusqu'ici ---***\n",
    "\n",
    "### Les méthodes de classe\n",
    "\n",
    "Les méthodes de classes, au lieux d'appartenir à la classe, ce sont des méthodes qui au lieux d'appartenir aux instances, vont appartenir directement à la classe. Elles ont pour avantage de pouvoir des des \"instances par défault\" de notre classe.\n",
    "\n",
    "Pour définir une méthode comme une méthode de classe on va utiliser le décorateur `@classmethod`. Cette méthode aura pour paramètre un argument appellé conventionnellement `cls` qui va représenter notre classe.\n",
    "\n",
    "Dans l'exemple suivant, lorsqu'on veut créer une Voiture qui as les caractéristiques d'une Lamborghini, au lieux de devoir ajouter les paramètres un à un dans une instance, on créer cette instance directement avec la méthode de classe `lamborghini`."
   ]
  },
  {
   "cell_type": "code",
   "execution_count": null,
   "metadata": {},
   "outputs": [],
   "source": [
    "class Bonbon:\n",
    "    def __init__(self, marque, vitesse, prix):\n",
    "        self.marque = marque\n",
    "        self.vitesse = vitesse\n",
    "        self.prix = prix\n",
    "\n",
    "    @classmethod\n",
    "    def lamborghini(cls):\n",
    "        return cls(marque=\"Lamborghini\", vitesse=250, prix=200000)\n",
    "\n",
    "    @classmethod\n",
    "    def porsche(cls):\n",
    "        return cls(marque=\"Lamborghini\", vitesse=250, prix=200000)\n",
    "\n",
    "# Au lieux de devoir écrire :\n",
    "lambo = Bonbon(marque=\"Lamborghini\", vitesse=250, prix=200000)\n",
    "# On écrit :\n",
    "lambo = Bonbon.lamborghini()\n",
    "\n",
    "# Au lieux de devoir écrire :\n",
    "porsche = Bonbon(marque=\"Lamborghini\", vitesse=250, prix=200000)\n",
    "# On écrit :\n",
    "porsche = Bonbon.porsche()"
   ]
  },
  {
   "cell_type": "markdown",
   "metadata": {},
   "source": [
    "### Les méthodes statiques\n",
    "\n",
    "Les méthodes statiques sont des méthodes qui ne possèdent aucun arguments (même pas `self` ni `cls`). Pour créer des méthodes statiques, on va devoir ajouter le décorateur `@staticmethod` pour spécifier au programme que c'est une méthode statique. "
   ]
  },
  {
   "cell_type": "code",
   "execution_count": null,
   "metadata": {},
   "outputs": [],
   "source": [
    "class Bonbon:\n",
    "    voiture_crees = 0\n",
    "    def __init__(self, marque, vitesse, prix):\n",
    "        Bonbon.voiture_crees += 1\n",
    "        self.marque = marque\n",
    "        self.vitesse = vitesse\n",
    "        self.prix = prix\n",
    "\n",
    "    @classmethod\n",
    "    def lamborghini(cls):\n",
    "        return cls(marque=\"Lamborghini\", vitesse=250, prix=200000)\n",
    "\n",
    "    @classmethod\n",
    "    def porsche(cls):\n",
    "        return cls(marque=\"Lamborghini\", vitesse=250, prix=200000)\n",
    "\n",
    "    @staticmethod\n",
    "    def nombre_voitures():\n",
    "        print(f\"Vous avez {Bonbon.voiture_crees} voiture(s) dans votre garage.\")\n",
    "\n",
    "lambo = Bonbon.lamborghini()\n",
    "porsche = Bonbon.porsche()\n",
    "Bonbon.nombre_voitures()"
   ]
  },
  {
   "cell_type": "markdown",
   "metadata": {},
   "source": [
    "### La méthode <code style=\"color:white\">\\_\\_str\\_\\_</code>\n",
    "\n",
    "Lorsqu'on essaye d'afficher un objet avec un `print`, on obtient généralement peu d'informations (ex : `<__main__.Voiture object at 0x0000012F1EED19D0>`). Pour avoir un peu plus d'informations, on peut définir la fonction `__str__` qui va nous permettre, lorsqu'on affiche un objet, de pouvoir afficher les informations qu'on veut.\n",
    "\n",
    "Par exemple :"
   ]
  },
  {
   "cell_type": "code",
   "execution_count": null,
   "metadata": {},
   "outputs": [],
   "source": [
    "class Bonbon:\n",
    "    def __init__(self, marque, vitesse):\n",
    "        self.marque = marque\n",
    "        self.vitesse = vitesse\n",
    "    \n",
    "    def __str__(self):\n",
    "        return f\"La voiture de marque {self.marque} a une vitesse maximale de {self.vitesse} km/h.\"\n",
    "\n",
    "porsche = Bonbon(\"Porsche\", 200)\n",
    "print(porsche)"
   ]
  },
  {
   "cell_type": "markdown",
   "metadata": {},
   "source": [
    "<h2 id=\"chapitre-4\" style=\"text-align:center\">Chapitre 4<br><strong>Notion d'héritage</strong></h2>\n",
    "\n",
    "### L'héritage : c'est quoi ?\n",
    "\n",
    "L'héritage *(concept avancé de la programmation orientée objet)* va nous permettre d'éviter de répéter inutilement des lignes de code.\n",
    "\n",
    "Dans l'exemple suivant, on a une classe `Utilisateur` qui permet de créer un utilisateur avec un nom et un prénom. On peut également afficher (pour chaque utilisateur) `projets` qui est une liste contenant des noms de projets (dont on veut que ceux qui commencent par `pr_` soient des projets protégés)."
   ]
  },
  {
   "cell_type": "code",
   "execution_count": null,
   "metadata": {},
   "outputs": [],
   "source": [
    "projets = [\"pr_GameOfThrones\", \"HarryPotter\", \"pr_Avengers\"]\n",
    "\n",
    "class Utilisateur:\n",
    "    def __init__(self, nom, prenom):\n",
    "        self.nom = nom\n",
    "        self.prenom = prenom\n",
    "\n",
    "    def __str__(self):\n",
    "        return f\"Utilisateur : {self.nom} {self.prenom}\"\n",
    "\n",
    "    def afficher_projets(self):\n",
    "        for projet in projets:\n",
    "            print(projet)\n",
    "\n",
    "paul = Utilisateur(\"Paul\", \"Dupuis\")"
   ]
  },
  {
   "cell_type": "markdown",
   "metadata": {},
   "source": [
    "Admettons que Paul Dupuis vient d'entrer dans un entreprise. On lui crée donc un profile utilisateur pour qu'il puisse accèder aux projet de l'entreprise. Or, on voudrait le restreindre pour qu'il puisse n'avoir accès qu'à certain projets (on verra ça avec dans la section sur [la surcharge](#la-surcharge))\n",
    "\n",
    "On créer donc l'utilisateur Paul Dupuis avec la classe `Utilisateur` mais pour que Paul n'ait pas accès aux projets qui sont protégés, il va faloir créer une nouvelle classe (ex : `Junior`) qui va hériter de `Utilisateur`. On appellera `Utilisateur` la **classe parent** et `Junior` la **classe fille** *(ou classe enfant)* et on dira que **`Junior` hérite de la classe `Utilisateur`**.\n",
    "\n",
    "On va donc créer la classe `Junior` et on va spécifier, dans les parenthèses, la classe dont `Junior` va hériter (ex : `class junior(Utilisateur)`). Une fois l'héritage effectué, on peut récupérer les attributs de la classe parent (`Utilisateur`) dans la classe enfant (`Junior`). On va donc, dans la fonction `__init__` de la classe `Junior`, appeler la fonction parent pour récupérer ses attributs."
   ]
  },
  {
   "cell_type": "code",
   "execution_count": null,
   "metadata": {},
   "outputs": [],
   "source": [
    "class Junior(Utilisateur): # 'Junior' hérite de la classe 'Utilisateur'\n",
    "    def __init__(self, nom, prenom): # On définit les mêmes arguments que dans 'Utilisateur'\n",
    "        Utilisateur.__init__(self, nom, prenom) # On récupère les attributs de 'Utilisateur'\n",
    "\n",
    "paul = Junior(\"Paul\", \"Dupuis\")\n",
    "print(paul)\n",
    "paul.afficher_projets()"
   ]
  },
  {
   "cell_type": "markdown",
   "metadata": {},
   "source": [
    "### La fonction `super()`\n",
    "\n",
    "Lorsqu'une classe enfant hérite d'une classe enfant, on a vu précedemment qu'il fallait appeller la classe parente (ex : `Utilisateur.__init__(self, nom, prenom)`). Avec cette méthode, on est obligé d'indiquer le nom de la classe. Le problème étant que si on utilise plusieurs fois des méthodes de la classe parente à l'intérieur de notre classe enfant, et que par la suite on souhaite modifier le nom de cette classe : il faudra donc changer à tous les endroits où on utilise la classe parente (c'est plus dure à expliquer qu'à comprendre je vous rassure). C'est là qu'intervient la fonction `super()` puisqu'elle nous permet d'appeler directement les méthodes de la classe parente sans avoir besoin d'indiquer son nom. Attention, avec la fonction `super()`, il est inutile d'ajouter le self dans les parenthèse du `__init__` qui suit.\n",
    "\n",
    "Dans l'exemple précédent, ça aurait donnée ça :"
   ]
  },
  {
   "cell_type": "code",
   "execution_count": null,
   "metadata": {},
   "outputs": [],
   "source": [
    "class Junior(Utilisateur): \n",
    "    def __init__(self, nom, prenom): \n",
    "        super().__init__(nom, prenom) # On remplace 'Utilisateur' par 'super()' et on enlève 'self'"
   ]
  },
  {
   "cell_type": "markdown",
   "metadata": {},
   "source": [
    "### La surcharge\n",
    "\n",
    "On a vu précédemment que la classe `Junior` héritait de la méthode `afficher_projets` dans la classe parente. Or, on veut que lorsqu'un membre junior de l'entreprise (ex : Paul) ne puisse pas avoir accès aux projets protégés. Pour ce faire, on va surcharger la fonction `afficher_projets`, c'est à dire qu'on va re-définir cette fonction dans la classe `Junior`. Lorsqu'on appelera cette fonction, c'est la fonction \"la plus proche\" (qui se trouve dans la classe la plus près) qui sera appellée.\n",
    "\n",
    "Si on veut appeller la fonction `afficher_projets` contenue dans la classe parente, on peut utiliser la fonction vue précédemment : `super().afficher_projet()`. "
   ]
  },
  {
   "cell_type": "code",
   "execution_count": null,
   "metadata": {},
   "outputs": [],
   "source": [
    "class Junior(Utilisateur): \n",
    "    def __init__(self, nom, prenom): \n",
    "        super().__init__(nom, prenom)\n",
    "    \n",
    "    def afficher_projets(self):\n",
    "        for projet in projets:\n",
    "            if not projet.startswith(\"pr_\"):\n",
    "                print(projet)\n",
    "\n",
    "paul = Junior(\"Paul\", \"Dupuis\")\n",
    "paul.afficher_projets()\n",
    "                "
   ]
  },
  {
   "cell_type": "markdown",
   "metadata": {},
   "source": [
    "### Le polymorphisme\n",
    "\n",
    "Le polymorphisme est un concept associé aux classes qui indique qu'on doit pouvoir utiliser des méthodes de la même façon sur tous les objets d'une même entité.\n",
    "\n",
    "Dans l'exemple suivant, on utilise la même méthode (`avance`) pour deux entité différentes (`a` et `v`). C'est le même principe avec la méthode `len` qui peut être à la fois utilisé sur une liste ou sur une chaine de caractères."
   ]
  },
  {
   "cell_type": "code",
   "execution_count": null,
   "metadata": {},
   "outputs": [],
   "source": [
    "class Vehicule:\n",
    "    def avance(self):\n",
    "        print(\"Le véhicule démarre\")\n",
    "\n",
    "class Bonbon(Vehicule): # Hérite de 'Vehicule'\n",
    "    def avance(self):\n",
    "        super().avance()\n",
    "        print(\"La voiture roule\")\n",
    "\n",
    "class Avion (Vehicule): # Hérite de 'Vehicule'\n",
    "    def avance(self):\n",
    "        super().avance()\n",
    "        print(\"L'avion vol\")\n",
    "\n",
    "v = Bonbon()\n",
    "a = Avion()\n",
    "a.avance()\n",
    "v.avance()"
   ]
  }
 ],
 "metadata": {
  "kernelspec": {
   "display_name": "Python 3",
   "language": "python",
   "name": "python3"
  },
  "language_info": {
   "codemirror_mode": {
    "name": "ipython",
    "version": 3
   },
   "file_extension": ".py",
   "mimetype": "text/x-python",
   "name": "python",
   "nbconvert_exporter": "python",
   "pygments_lexer": "ipython3",
   "version": "3.11.7"
  },
  "orig_nbformat": 4
 },
 "nbformat": 4,
 "nbformat_minor": 2
}
