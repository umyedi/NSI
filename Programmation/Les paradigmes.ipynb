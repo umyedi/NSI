{
 "cells": [
  {
   "cell_type": "markdown",
   "metadata": {},
   "source": [
    "# Les paradigmes de la programmation\n",
    "\n",
    "---\n",
    "\n",
    "-   [La Programmation Impérative](#la-programmation-impérative)\n",
    "    -   [La Programmation Procédurale](#la-programmation-procédurale)\n",
    "    -   [La Programmation Orientée Objet](#la-programmation-orientée-objet)\n",
    "    -   [La Programmation Parallèle](#la-programmation-parallèle)\n",
    "-   [La Programmation Déclarative](#la-programmation-déclarative)\n",
    "    -   [La Programmation Logique](#la-programmation-logique)\n",
    "    -   [La Programmation Fonctionnelle](#la-programmation-fonctionnelle)\n",
    "    -   [La Programmation Réactive](#la-programmation-réactive)\n",
    "-   [Les autres Paradigmes de Programmation](#les-autres-paradigmes-de-programmation)\n",
    "\n",
    "---\n",
    "\n",
    "## Qu'est-ce que c'est ?\n",
    "\n",
    "Au sens large, un paradigme est un « modèle théorique de pensée qui oriente la recherche et la réflexion scientifiques » selon Larousse. En programmation, un paradigme représente les différentes façons d’organiser le code d’un programme.\n",
    "\n",
    "La séparation des langages en différents paradigmes est parfois critiqué par des chercheurs en programmation. Leur principal argument est que cette séparation est inéxacte car aucun langage ne peut être strictement classé. Ils pensent que chaque language possède des caractéristiques de différents paradigmes\n"
   ]
  },
  {
   "cell_type": "markdown",
   "metadata": {},
   "source": [
    "## La Programmation Impérative\n",
    "\n",
    "La [Programmation Impérative](https://fr.wikipedia.org/wiki/Programmation_imp%C3%A9rative) est un style de programmation où vous donnez des instructions à l'ordinateur pour effectuer certaines tâches, étape par étape. C'est comme si vous écriviez une liste d'instructions que l'ordinateur doit suivre, une par une, dans un ordre précis.\n",
    "\n",
    "Imaginons que vous deviez écrire un programme pour calculer la somme de deux nombres en utilisant la Programmation Impérative. Voici à quoi cela pourrait ressembler en Python :\n"
   ]
  },
  {
   "cell_type": "code",
   "execution_count": null,
   "metadata": {},
   "outputs": [],
   "source": [
    "# Définis deux nombres\n",
    "nombre1 = 5\n",
    "nombre2 = 7\n",
    "\n",
    "# Additionne les nombres\n",
    "somme = nombre1 + nombre2\n",
    "\n",
    "# Affiche le résultat\n",
    "print(\"La somme de\", nombre1, \"et\", nombre2, \"est égale à\", somme)"
   ]
  },
  {
   "cell_type": "markdown",
   "metadata": {},
   "source": [
    "## La Programmation Procédurale\n",
    "\n",
    "La [Programmation Procédurale](https://fr.wikipedia.org/wiki/Programmation_proc%C3%A9durale) est un style de programmation où nous organisons notre code en petites étapes ou \"procédures\" pour résoudre un problème plus complexe. Vous pouvez penser à ces procédures comme à des mini-instructions que l'ordinateur doit suivre pour accomplir une tâche.\n",
    "\n",
    "Prenons un exemple simple en Python pour calculer la moyenne de trois nombres en utilisant la Programmation Procédurale :\n"
   ]
  },
  {
   "cell_type": "code",
   "execution_count": null,
   "metadata": {},
   "outputs": [],
   "source": [
    "# Définis une fonction pour calculer la moyenne\n",
    "def calculer_moyenne(nombre1, nombre2, nombre3):\n",
    "    somme = nombre1 + nombre2 + nombre3\n",
    "    return somme / 3  # Moyenne\n",
    "\n",
    "\n",
    "# Appele la fonction avec trois nombres\n",
    "resultat = calculer_moyenne(10, 15, 20)\n",
    "\n",
    "# Affiche la moyenne\n",
    "print(\"La moyenne des nombres est :\", resultat)"
   ]
  },
  {
   "cell_type": "markdown",
   "metadata": {},
   "source": [
    "## La Programmation Orientée Objet\n",
    "\n",
    "La [Programmation Orientée Objet](https://fr.wikipedia.org/wiki/Programmation_orient%C3%A9e_objet) _(POO)_ est un style de programmation qui se base sur des \"objets\" pour organiser et gérer des données et les actions associées à ces données. Chaque objet est comme une boîte qui peut contenir des informations (appelées attributs) et des actions (appelées méthodes) que l'objet peut effectuer.\n",
    "\n",
    "Pour rendre cela plus concret, prenons un exemple avec des animaux. Supposons que nous voulions créer un programme pour représenter des animaux et interagir avec eux. En utilisant la POO, nous pourrions créer une classe \"Animal\" qui définit les caractéristiques communes à tous les animaux. Voici un exemple en Python :\n"
   ]
  },
  {
   "cell_type": "code",
   "execution_count": null,
   "metadata": {},
   "outputs": [],
   "source": [
    "# Définis la classe Animal\n",
    "class Animal:\n",
    "    # Méthode d'initialisation pour définir les attributs de l'animal\n",
    "    def __init__(self, nom, age):\n",
    "        self.nom = nom\n",
    "        self.age = age\n",
    "\n",
    "    # Méthode pour faire parler l'animal\n",
    "    def parler(self, son):\n",
    "        print(f\"{self.nom} dit {son}\")\n",
    "\n",
    "\n",
    "# Création d'une instance d'un objet\n",
    "mon_animal = Animal(\"Rex\", 5)\n",
    "\n",
    "# Appel de la méthode 'parler'\n",
    "mon_animal.parler(\"Ouaf ouaf !\")"
   ]
  },
  {
   "cell_type": "markdown",
   "metadata": {},
   "source": [
    "## La Programmation Parallèle\n",
    "\n",
    "La [Programmation Parallèle](https://en.wikipedia.org/wiki/Parallel_programming_model) est une approche en informatique qui consiste à exécuter plusieurs tâches ou parties d'un programme en même temps, plutôt que de les exécuter séquentiellement l'une après l'autre. Cela permet d'exploiter pleinement la puissance de traitement des ordinateurs modernes qui ont plusieurs cœurs de processeur.\n",
    "\n",
    "Imaginez que vous ayez une équipe de personnes qui construisent un puzzle géant. En Programmation Parallèle, chaque personne peut travailler sur une partie différente du puzzle en même temps, accélérant ainsi la finition du puzzle.\n",
    "\n",
    "Un exemple simple en Programmation Parallèle pourrait être de calculer la somme de plusieurs nombres. En utilisant la Programmation Parallèle, vous pourriez répartir la tâche de calcul entre plusieurs processeurs ou cœurs de votre ordinateur, de sorte que chaque processeur calcule une partie de la somme en même temps.\n",
    "\n",
    "En réalité, la mise en œuvre de la Programmation Parallèle est plus complexe et nécessite des outils spécifiques, mais l'idée principale est d'effectuer plusieurs tâches en même temps pour gagner en efficacité et en vitesse. C'est particulièrement utile pour des tâches intensives en calcul, telles que la simulation scientifique, l'inférence en intelligence artificielle ou le rendu d'images dans les jeux vidéo.\n"
   ]
  },
  {
   "cell_type": "markdown",
   "metadata": {},
   "source": [
    "## La Programmation Déclarative\n",
    "\n",
    "La [Programmation Déclarative](https://fr.wikipedia.org/wiki/Programmation_d%C3%A9clarative) est un style de programmation où vous spécifiez ce que vous voulez accomplir, plutôt que de dire comment le faire de manière détaillée. Au lieu de donner une séquence d'instructions exactes à l'ordinateur, vous décrivez le résultat souhaité et laissez l'ordinateur trouver la meilleure façon de le faire. C'est un peu comme donner des ordres à un assistant en lui disant ce que vous voulez, sans lui dire comment le faire étape par étape.\n",
    "\n",
    "Prenons un exemple simple pour illustrer la Programmation Déclarative. Imaginons que vous vouliez obtenir une liste des nombres pairs dans une liste de nombres donnée. En utilisant la Programmation Déclarative en Python, cela pourrait ressembler à ceci :\n"
   ]
  },
  {
   "cell_type": "code",
   "execution_count": null,
   "metadata": {},
   "outputs": [],
   "source": [
    "# Liste de nombres\n",
    "nombres = [1, 2, 3, 4, 5, 6, 7, 8, 9, 10]\n",
    "\n",
    "# Utilisation d'une expression en compréhension de liste pour obtenir les nombres pairs\n",
    "nombres_pairs = [x for x in nombres if x % 2 == 0]\n",
    "\n",
    "# Affiche la liste des nombres pairs\n",
    "print(\"Nombres pairs :\", nombres_pairs)"
   ]
  },
  {
   "cell_type": "markdown",
   "metadata": {},
   "source": [
    "Dans cet exemple, au lieu de dire à l'ordinateur comment vérifier si un nombre est pair (par exemple, en utilisant une boucle for et une condition if), nous utilisons une expression en compréhension de liste pour déclarer notre intention. En langage courant, ça donnerait : \"je veux une liste des nombres x pour lesquels x % 2 == 0\".\n",
    "\n",
    "La Programmation Déclarative est couramment utilisée avec des langages et des outils qui permettent de décrire ce que vous voulez faire de manière concise et expressive. Cela rend souvent le code plus lisible et plus facile à comprendre, car il se rapproche davantage de la manière dont nous exprimons nos pensées.\n"
   ]
  },
  {
   "cell_type": "markdown",
   "metadata": {},
   "source": [
    "## La Programmation Logique\n",
    "\n",
    "La [Programmation Logique](https://en.wikipedia.org/wiki/Logic_programming) est un style de programmation basé sur la logique mathématique. Au lieu de donner à l'ordinateur des instructions précises sur comment effectuer une tâche, vous lui fournissez des règles logiques et des faits, puis vous lui demandez de résoudre des problèmes en utilisant ces règles. C'est comme si vous écriviez des règles du jeu et que l'ordinateur jouait en respectant ces règles pour obtenir une solution.\n",
    "\n",
    "Pour expliquer cela plus clairement, prenons un exemple simple en utilisant un langage de programmation logique appelé Prolog. Imaginons que nous voulions créer un programme pour déterminer si un animal est un oiseau en fonction de certaines caractéristiques. Voici comment cela pourrait être fait en [Prolog](https://fr.wikipedia.org/wiki/Prolog) :\n",
    "\n",
    "```Prolog\n",
    "% Définir les faits : Quels animaux sont des oiseaux\n",
    "oiseau(canari).\n",
    "oiseau(aigle).\n",
    "oiseau(pingouin).\n",
    "\n",
    "% Définir des règles logiques\n",
    "peut_voler(X) :- oiseau(X).\n",
    "a_des_ailes(X) :- oiseau(X).\n",
    "a_des_plumes(X) :- oiseau(X).\n",
    "\n",
    "% Posez des questions pour résoudre des problèmes\n",
    "?- peut_voler(canari).\n",
    "```\n",
    "\n",
    "Dans cet exemple, nous définissons d'abord des faits en spécifiant quels animaux sont des oiseaux. Ensuite, nous définissons des règles logiques en disant que si un animal est un oiseau, alors il peut voler, a des ailes et a des plumes. Enfin, nous posons une question à l'ordinateur pour savoir si un canari peut voler. L'ordinateur utilise les règles et les faits que nous avons fournis pour déterminer la réponse, qui est \"true\" (vrai) dans ce cas, car un canari est un oiseau.\n",
    "\n",
    "La Programmation Logique est particulièrement utile pour résoudre des problèmes où la logique joue un rôle clé, comme la résolution de problèmes mathématiques, la planification de tâches, ou l'analyse de données.\n"
   ]
  },
  {
   "cell_type": "markdown",
   "metadata": {},
   "source": [
    "## La Programmation Fonctionnelle\n",
    "\n",
    "La [Programmation Fonctionnelle](https://fr.wikipedia.org/wiki/Programmation_fonctionnelle) est un style de programmation basé sur le concept de fonctions, tout comme les fonctions en math. Dans ce style de programmation, les fonctions sont des \"citoyens de première classe\", ce qui signifie qu'elles peuvent être traitées comme des valeurs.\n",
    "\n",
    "Attention : la différence est assez suptile avec la programmation procédurale surtout que Python regroupe ces deux types de paradigmes.\n",
    "\n",
    "Imaginons que nous voulions créer un programme pour calculer la somme des carrés de plusieurs nombres. En utilisant la Programmation Fonctionnelle en Python, cela pourrait ressembler à ceci :\n"
   ]
  },
  {
   "cell_type": "code",
   "execution_count": null,
   "metadata": {},
   "outputs": [],
   "source": [
    "# Définis une fonction pour calculer le carré d'un nombre\n",
    "def carre(nombre):\n",
    "    return nombre * nombre\n",
    "\n",
    "\n",
    "# Définis une fonction pour calculer la somme des carrés\n",
    "def somme_des_carres(liste_de_nombres):\n",
    "    somme = 0\n",
    "    for nombre in liste_de_nombres:\n",
    "        somme += carre(nombre)\n",
    "    return somme\n",
    "\n",
    "\n",
    "# Utilise la fonction pour calculer la somme des carrés\n",
    "nombres = [1, 2, 3, 4, 5]\n",
    "resultat = somme_des_carres(nombres)\n",
    "print(\"La somme des carrés est :\", resultat)"
   ]
  },
  {
   "cell_type": "markdown",
   "metadata": {},
   "source": [
    "## La Programmation Réactive\n",
    "\n",
    "La [Programmation Réactive](https://fr.wikipedia.org/wiki/Programmation_r%C3%A9active) est un style de programmation qui se concentre sur la gestion des flux de données et des événements. Dans ce style de programmation, le programme réagit aux changements de données ou d'événements en temps réel, plutôt que d'exécuter des tâches de manière séquentielle.\n",
    "\n",
    "Un exemple simple de Programmation Réactive serait la gestion d'une boîte de réception d'e-mails. Plutôt que de constamment actualiser la boîte de réception pour vérifier s'il y a de nouveaux e-mails, la Programmation Réactive permettrait au programme de réagir immédiatement lorsqu'un nouvel e-mail arrive.\n",
    "\n",
    "Un exemple plus concret en Python serait l'utilisation de la bibliothèque tkinter pour créer une interface utilisateur réactive. Voici un exemple très basique d'une fenêtre qui réagit lorsque vous cliquez sur un bouton :\n",
    "\n",
    "```Python\n",
    "import tkinter as tk\n",
    "\n",
    "# Fonction appelée lorsque le bouton est cliqué\n",
    "def bouton_clique():\n",
    "    label.config(text=\"Bouton cliqué!\")\n",
    "\n",
    "# Création de la fenêtre\n",
    "fenetre = tk.Tk()\n",
    "fenetre.title(\"Programmation Réactive\")\n",
    "\n",
    "# Création d'un bouton\n",
    "bouton = tk.Button(fenetre, text=\"Cliquez-moi!\", command=bouton_clique)\n",
    "bouton.pack()\n",
    "\n",
    "# Création d'une étiquette\n",
    "label = tk.Label(fenetre, text=\"\")\n",
    "label.pack()\n",
    "\n",
    "# Lancement de la boucle d'événements\n",
    "fenetre.mainloop()\n",
    "```\n",
    "\n",
    "Dans cet exemple, nous avons créé une fenêtre avec un bouton. Lorsque le bouton est cliqué, il déclenche une fonction (`bouton_clique`) qui modifie le texte d'une étiquette pour afficher \"Bouton cliqué!\". Cela montre comment la fenêtre réagit en temps réel aux événements (cliquer sur le bouton) sans attendre que l'utilisateur fasse autre chose.\n",
    "\n",
    "La Programmation Réactive est souvent utilisée dans le développement d'applications Web pour gérer les mises à jour en temps réel, dans les jeux vidéo pour gérer les mouvements des personnages en fonction des entrées des joueurs, et dans de nombreuses autres applications qui nécessitent une réponse rapide aux événements.\n"
   ]
  },
  {
   "cell_type": "markdown",
   "metadata": {},
   "source": [
    "## Les autres Paradigmes de Programmation\n",
    "\n",
    "Il existe plusieurs autres paradigmes moins connus, en voici quelques-un :\n",
    "\n",
    "1. [Programmation Orientée Aspect](https://fr.wikipedia.org/wiki/Programmation_orient%C3%A9e_aspect) (POA) : séparation des préoccupations transversales (en anglais, [cross-cutting concerns](https://en.wikipedia.org/wiki/Cross-cutting_concern)) liées à l'aspect (ex : gestion de log) du reste du code en les encapsulant dans des aspects.\n",
    "\n",
    "2. [Programmation Générique](https://fr.wikipedia.org/wiki/G%C3%A9n%C3%A9ricit%C3%A9) : création de code générique capable de fonctionner avec différents types de données sans avoir à les spécifier explicitement.\n",
    "\n",
    "3. [Programmation Concurrente](https://fr.wikipedia.org/wiki/Programmation_concurrente) : gestion de plusieurs tâches ou processus en même temps pour améliorer les performances ou la réactivité d'une application.\n",
    "\n",
    "4. [Programmation Contrainte](https://fr.wikipedia.org/wiki/Programmation_par_contraintes) : résolution de problèmes tout en définissant des contraintes sur les variables.\n",
    "\n",
    "5. [Programmation par Contrat](https://fr.wikipedia.org/wiki/Programmation_par_contrat) : chaque composant logiciel définit un contrat qui spécifie ses préconditions et ses postconditions.\n",
    "\n",
    "6. [Programmation Visuelle](https://fr.wikipedia.org/wiki/Langage_graphique) : interfaces graphiques permettant de créer des programmes en plaçant des composants visuels.\n",
    "\n",
    "<p xmlns:cc=\"http://creativecommons.org/ns#\" ><a rel=\"cc:attributionURL\" href=\"https://github.com/umyedi/NSI\">This work</a> by <a rel=\"cc:attributionURL dct:creator\" property=\"cc:attributionName\" href=\"https://github.com/umyedi\">umyedi</a> is licensed under <a href=\"http://creativecommons.org/licenses/by-nc/4.0/?ref=chooser-v1\" target=\"_blank\" rel=\"license noopener noreferrer\" style=\"display:inline-block;\">CC BY-NC 4.0<img style=\"height:22px!important;margin-left:3px;vertical-align:text-bottom;\" src=\"https://mirrors.creativecommons.org/presskit/icons/cc.svg?ref=chooser-v1\"><img style=\"height:22px!important;margin-left:3px;vertical-align:text-bottom;\" src=\"https://mirrors.creativecommons.org/presskit/icons/by.svg?ref=chooser-v1\"><img style=\"height:22px!important;margin-left:3px;vertical-align:text-bottom;\" src=\"https://mirrors.creativecommons.org/presskit/icons/nc.svg?ref=chooser-v1\"></a></p>\n"
   ]
  }
 ],
 "metadata": {
  "kernelspec": {
   "display_name": "Python 3",
   "language": "python",
   "name": "python3"
  },
  "language_info": {
   "codemirror_mode": {
    "name": "ipython",
    "version": 3
   },
   "file_extension": ".py",
   "mimetype": "text/x-python",
   "name": "python",
   "nbconvert_exporter": "python",
   "pygments_lexer": "ipython3",
   "version": "3.11.5"
  },
  "orig_nbformat": 4
 },
 "nbformat": 4,
 "nbformat_minor": 2
}
